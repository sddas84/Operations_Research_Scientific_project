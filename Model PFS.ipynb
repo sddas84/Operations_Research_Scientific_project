{
 "cells": [
  {
   "cell_type": "code",
   "execution_count": 2,
   "metadata": {
    "ExecuteTime": {
     "end_time": "2023-05-22T15:38:34.656907Z",
     "start_time": "2023-05-22T15:38:34.635069Z"
    }
   },
   "outputs": [
    {
     "name": "stdout",
     "output_type": "stream",
     "text": [
      "C:\\Users\\somad\n"
     ]
    }
   ],
   "source": [
    "import os\n",
    "\n",
    "# Check the updated current working directory\n",
    "current_directory = os.getcwd()\n",
    "\n",
    "print(current_directory)"
   ]
  },
  {
   "cell_type": "code",
   "execution_count": 3,
   "metadata": {
    "ExecuteTime": {
     "end_time": "2023-05-22T15:38:34.672372Z",
     "start_time": "2023-05-22T15:38:34.659019Z"
    }
   },
   "outputs": [],
   "source": [
    "# Change the current working directory\n",
    "new_directory = \"C:/Users/somad/OneDrive/Documents/3rd semester/Scientific project\"\n",
    "os.chdir(new_directory)"
   ]
  },
  {
   "cell_type": "code",
   "execution_count": 4,
   "metadata": {
    "ExecuteTime": {
     "end_time": "2023-05-22T15:38:37.315260Z",
     "start_time": "2023-05-22T15:38:34.674843Z"
    }
   },
   "outputs": [
    {
     "name": "stdout",
     "output_type": "stream",
     "text": [
      "Requirement already satisfied: pulp in c:\\users\\somad\\anaconda3\\lib\\site-packages (2.7.0)\n"
     ]
    }
   ],
   "source": [
    "!pip install pulp\n",
    "import pulp\n",
    "import pandas as pd"
   ]
  },
  {
   "cell_type": "code",
   "execution_count": 5,
   "metadata": {
    "ExecuteTime": {
     "end_time": "2023-05-22T15:38:37.376335Z",
     "start_time": "2023-05-22T15:38:37.317764Z"
    }
   },
   "outputs": [],
   "source": [
    "# Read the Excel file\n",
    "df = pd.read_excel(\"coverage_matrix.xlsx\", header=None)\n",
    "\n",
    "# Convert the DataFrame to a matrix\n",
    "Coverage = df.values.tolist()"
   ]
  },
  {
   "cell_type": "code",
   "execution_count": 6,
   "metadata": {
    "ExecuteTime": {
     "end_time": "2023-05-22T15:38:37.391738Z",
     "start_time": "2023-05-22T15:38:37.378755Z"
    }
   },
   "outputs": [],
   "source": [
    "# Constants\n",
    "num_circles = 11\n",
    "radius = 2.5\n",
    "distance_between_circles = 5"
   ]
  },
  {
   "cell_type": "code",
   "execution_count": 7,
   "metadata": {
    "ExecuteTime": {
     "end_time": "2023-05-22T15:38:37.407182Z",
     "start_time": "2023-05-22T15:38:37.394970Z"
    }
   },
   "outputs": [],
   "source": [
    "# Set up the problem\n",
    "prob = pulp.LpProblem(\"Set_Covering_Problem\", pulp.LpMinimize)\n",
    "\n",
    "# Decision variables\n",
    "stations = pulp.LpVariable.dicts(\"Station\", range(num_circles), cat=\"Binary\")\n",
    "\n",
    "# Objective function: minimize the total distance travelled\n",
    "prob += pulp.lpSum(\n",
    "    [\n",
    "        pulp.lpSum(\n",
    "            [\n",
    "                distance_between_circles * stations[i]\n",
    "                for i in range(num_circles)\n",
    "                if Coverage[i][j] == 1\n",
    "            ]\n",
    "        )\n",
    "        for j in range(num_circles)\n",
    "    ]\n",
    ")"
   ]
  },
  {
   "cell_type": "code",
   "execution_count": 8,
   "metadata": {
    "ExecuteTime": {
     "end_time": "2023-05-22T15:38:37.423011Z",
     "start_time": "2023-05-22T15:38:37.409626Z"
    }
   },
   "outputs": [],
   "source": [
    "# Constraints\n",
    "# Ensure 100% coverage\n",
    "for i in range(num_circles):\n",
    "    prob += (\n",
    "        pulp.lpSum(\n",
    "            [\n",
    "                stations[j]\n",
    "                for j in range(num_circles)\n",
    "                if Coverage[i][j] == 1\n",
    "            ]\n",
    "        )\n",
    "        >= 1\n",
    "    )"
   ]
  },
  {
   "cell_type": "code",
   "execution_count": 9,
   "metadata": {
    "ExecuteTime": {
     "end_time": "2023-05-22T15:38:37.500133Z",
     "start_time": "2023-05-22T15:38:37.427425Z"
    }
   },
   "outputs": [
    {
     "name": "stdout",
     "output_type": "stream",
     "text": [
      "Optimal Solution:\n",
      "Circle 2 - Station Location\n",
      "Circle 7 - Station Location\n",
      "Circle 11 - Station Location\n",
      "Total distance travelled: 55.0\n"
     ]
    }
   ],
   "source": [
    "# Solve the problem\n",
    "prob.solve()\n",
    "\n",
    "# Print the optimal solution\n",
    "print(\"Optimal Solution:\")\n",
    "for i in range(num_circles):\n",
    "    if pulp.value(stations[i]) == 1:\n",
    "        print(f\"Circle {i + 1} - Station Location\")\n",
    "\n",
    "print(\"Total distance travelled:\", pulp.value(prob.objective))"
   ]
  },
  {
   "cell_type": "code",
   "execution_count": null,
   "metadata": {},
   "outputs": [],
   "source": []
  }
 ],
 "metadata": {
  "kernelspec": {
   "display_name": "Python 3",
   "language": "python",
   "name": "python3"
  },
  "language_info": {
   "codemirror_mode": {
    "name": "ipython",
    "version": 3
   },
   "file_extension": ".py",
   "mimetype": "text/x-python",
   "name": "python",
   "nbconvert_exporter": "python",
   "pygments_lexer": "ipython3",
   "version": "3.8.5"
  }
 },
 "nbformat": 4,
 "nbformat_minor": 4
}
