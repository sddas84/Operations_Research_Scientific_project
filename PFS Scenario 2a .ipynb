{
 "cells": [
  {
   "cell_type": "code",
   "execution_count": 1,
   "id": "63ec02f7",
   "metadata": {},
   "outputs": [
    {
     "name": "stdout",
     "output_type": "stream",
     "text": [
      "C:\\Users\\chitr\n"
     ]
    }
   ],
   "source": [
    "import os\n",
    "\n",
    "# Check the updated current working directory\n",
    "current_directory = os.getcwd()\n",
    "\n",
    "print(current_directory)\n"
   ]
  },
  {
   "cell_type": "code",
   "execution_count": 4,
   "id": "86eb4e2a",
   "metadata": {},
   "outputs": [
    {
     "name": "stdout",
     "output_type": "stream",
     "text": [
      "Requirement already satisfied: pulp in c:\\users\\chitr\\anaconda3\\lib\\site-packages (2.7.0)\n"
     ]
    }
   ],
   "source": [
    "from IPython.core.compilerop import contextmanager\n",
    "!pip install pulp\n",
    "import pulp\n",
    "import pandas as pd"
   ]
  },
  {
   "cell_type": "code",
   "execution_count": 5,
   "id": "4e554be8",
   "metadata": {},
   "outputs": [],
   "source": [
    "# Change the current working directory\n",
    "new_directory = \"C:/Users/chitr/OneDrive/Uddhav Working/Germany/OVGU/Sem-3/Scientific Project/Common/Codes/PFS\"\n",
    "os.chdir(new_directory)\n",
    "# Read the Excel file\n",
    "coverage_df = pd.read_excel(\"coverage_matrix.xlsx\", header=None)\n",
    "population_df = pd.read_excel(\"PFS_population_weights.xlsx\", header=None)"
   ]
  },
  {
   "cell_type": "code",
   "execution_count": 6,
   "id": "85f02f99",
   "metadata": {},
   "outputs": [],
   "source": [
    "# Convert the DataFrames to matrices\n",
    "Coverage = coverage_df.values.tolist()\n",
    "population = population_df.values.flatten().tolist()"
   ]
  },
  {
   "cell_type": "code",
   "execution_count": 7,
   "id": "3123df8e",
   "metadata": {},
   "outputs": [],
   "source": [
    "# Constants\n",
    "num_circles = 11\n",
    "max_stations = 3"
   ]
  },
  {
   "cell_type": "code",
   "execution_count": 31,
   "id": "d28d2ef7",
   "metadata": {},
   "outputs": [],
   "source": [
    "# Set up the problem\n",
    "prob = pulp.LpProblem(\"Population_Coverage_Problem\", pulp.LpMaximize)\n",
    "\n",
    "# Decision variables\n",
    "stations = pulp.LpVariable.dicts(\"Station\", range(num_circles), cat=\"Binary\")\n",
    "\n",
    "# Objective function: maximize the total population covered\n",
    "prob += pulp.lpSum(population[i] * stations[i] for i in range(num_circles))\n",
    "\n",
    "# Constraints\n",
    "# Ensure 100% coverage\n",
    "for i in range(num_circles):\n",
    "    prob += (\n",
    "        pulp.lpSum(\n",
    "            stations[j]\n",
    "            for j in range(num_circles)\n",
    "            if Coverage[i][j] == 1\n",
    "        )\n",
    "        >= 1\n",
    "    )\n"
   ]
  },
  {
   "cell_type": "code",
   "execution_count": 32,
   "id": "48c6b5b4",
   "metadata": {},
   "outputs": [
    {
     "data": {
      "text/plain": [
       "1"
      ]
     },
     "execution_count": 32,
     "metadata": {},
     "output_type": "execute_result"
    }
   ],
   "source": [
    "# Limit the number of selected circles\n",
    "prob += pulp.lpSum(stations) <= max_stations\n",
    "\n",
    "# Solve the problem\n",
    "prob.solve()"
   ]
  },
  {
   "cell_type": "code",
   "execution_count": 33,
   "id": "ca6d930c",
   "metadata": {},
   "outputs": [
    {
     "name": "stdout",
     "output_type": "stream",
     "text": [
      "Optimal Solution:\n",
      "Selected Circles: [2, 8, 10]\n"
     ]
    }
   ],
   "source": [
    "# Print the optimal solution\n",
    "print(\"Optimal Solution:\")\n",
    "selected_circles = [i + 1 for i in range(num_circles) if pulp.value(stations[i]) == 1]\n",
    "print(\"Selected Circles:\", selected_circles)"
   ]
  },
  {
   "cell_type": "code",
   "execution_count": 28,
   "id": "929f4285",
   "metadata": {},
   "outputs": [
    {
     "name": "stdout",
     "output_type": "stream",
     "text": [
      "Max Stations: 1\n",
      "Selected Circles: [5]\n",
      "Total Population Covered: 68011.0\n",
      "--------------------------------------------------\n",
      "Max Stations: 2\n",
      "Selected Circles: [5, 8]\n",
      "Total Population Covered: 107980.0\n",
      "--------------------------------------------------\n",
      "Max Stations: 3\n",
      "Selected Circles: [4, 5, 8]\n",
      "Total Population Covered: 144489.0\n",
      "--------------------------------------------------\n"
     ]
    }
   ],
   "source": [
    "#sensitivity Analysis\n",
    "# Loop through different maximum number of stations\n",
    "for max_stations_new in range(1, 4):\n",
    "    # Set up the problem\n",
    "    prob = pulp.LpProblem(\"Population_Coverage_Problem\", pulp.LpMaximize)\n",
    "\n",
    "    # Decision variables\n",
    "    stations = pulp.LpVariable.dicts(\"Station\", range(num_circles), cat=\"Binary\")\n",
    "\n",
    "    # Objective function: maximize the total population covered\n",
    "    prob += pulp.lpSum(population[i] * stations[i] for i in range(num_circles))\n",
    "\n",
    "    # Constraints\n",
    "    # Ensure 100% coverage\n",
    "    for i in range(num_circles):\n",
    "        prob += (\n",
    "            pulp.lpSum(\n",
    "                stations[j]\n",
    "                for j in range(num_circles)\n",
    "                if Coverage[i][j] <= 1\n",
    "            )\n",
    "            >= 1\n",
    "        )\n",
    "    # Limit the number of selected circles\n",
    "    prob += pulp.lpSum(stations) <= max_stations_new\n",
    "\n",
    "    # Solve the problem\n",
    "    prob.solve()\n",
    "    # Print the optimal solution\n",
    "    print(f\"Max Stations: {max_stations_new}\")\n",
    "    selected_circles = [i + 1 for i in range(num_circles) if pulp.value(stations[i]) == 1]\n",
    "    print(\"Selected Circles:\", selected_circles)\n",
    "    print(\"Total Population Covered:\", pulp.value(prob.objective))\n",
    "    print(\"-\" * 50)   "
   ]
  }
 ],
 "metadata": {
  "kernelspec": {
   "display_name": "Python 3 (ipykernel)",
   "language": "python",
   "name": "python3"
  },
  "language_info": {
   "codemirror_mode": {
    "name": "ipython",
    "version": 3
   },
   "file_extension": ".py",
   "mimetype": "text/x-python",
   "name": "python",
   "nbconvert_exporter": "python",
   "pygments_lexer": "ipython3",
   "version": "3.10.9"
  }
 },
 "nbformat": 4,
 "nbformat_minor": 5
}
